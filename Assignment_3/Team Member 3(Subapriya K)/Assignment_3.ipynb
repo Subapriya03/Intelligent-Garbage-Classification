{
 "cells": [
  {
   "cell_type": "markdown",
   "metadata": {
    "id": "THpGyV-Sdeis"
   },
   "source": [
    "##Data augumentation"
   ]
  },
  {
   "cell_type": "code",
   "execution_count": null,
   "metadata": {
    "executionInfo": {
     "elapsed": 5,
     "status": "ok",
     "timestamp": 1684085994483,
     "user": {
      "displayName": "GAYATHIRI.T",
      "userId": "05673025622643212043"
     },
     "user_tz": -330
    },
    "id": "9GW3FDeaU-rq"
   },
   "outputs": [],
   "source": [
    "import tensorflow as tf\n",
    "import numpy as np\n",
    "import pandas as pd\n",
    "import seaborn as sns\n",
    "import matplotlib.pyplot as plt\n",
    "import cv2\n",
    "import random\n",
    "import os\n",
    "from tensorflow import keras\n",
    "from tensorflow.keras import layers\n",
    "from tensorflow.keras.layers import *\n",
    "from tensorflow.keras.models import Sequential,Model\n",
    "from tensorflow.keras.optimizers import Adam"
   ]
  },
  {
   "cell_type": "code",
   "execution_count": null,
   "metadata": {
    "executionInfo": {
     "elapsed": 510,
     "status": "ok",
     "timestamp": 1684085786742,
     "user": {
      "displayName": "GAYATHIRI.T",
      "userId": "05673025622643212043"
     },
     "user_tz": -330
    },
    "id": "IjLpCCWhu8G4"
   },
   "outputs": [],
   "source": [
    "#import libraries\n",
    "from tensorflow.keras.preprocessing.image import ImageDataGenerator"
   ]
  },
  {
   "cell_type": "code",
   "execution_count": 66,
   "metadata": {
    "executionInfo": {
     "elapsed": 417,
     "status": "ok",
     "timestamp": 1684085789990,
     "user": {
      "displayName": "GAYATHIRI.T",
      "userId": "05673025622643212043"
     },
     "user_tz": -330
    },
    "id": "W9R0qwkuefv2"
   },
   "outputs": [],
   "source": [
    "#data augumentation on training variable\n",
    "train_datagen = ImageDataGenerator(rescale=1./255,zoom_range=0.2,horizontal_flip=True)"
   ]
  },
  {
   "cell_type": "code",
   "execution_count": 67,
   "metadata": {
    "executionInfo": {
     "elapsed": 810,
     "status": "ok",
     "timestamp": 1684085793186,
     "user": {
      "displayName": "GAYATHIRI.T",
      "userId": "05673025622643212043"
     },
     "user_tz": -330
    },
    "id": "ZhlITPYtfVd3"
   },
   "outputs": [],
   "source": [
    "#data augumentation on testing variable\n",
    "test_datagen = ImageDataGenerator(rescale=1./255)"
   ]
  },
  {
   "cell_type": "code",
   "execution_count": 68,
   "metadata": {
    "colab": {
     "base_uri": "https://localhost:8080/"
    },
    "executionInfo": {
     "elapsed": 771,
     "status": "ok",
     "timestamp": 1684085796679,
     "user": {
      "displayName": "GAYATHIRI.T",
      "userId": "05673025622643212043"
     },
     "user_tz": -330
    },
    "id": "whE36kP_fh0e",
    "outputId": "574ac236-3477-4037-8611-5eaa60ff1e64"
   },
   "outputs": [
    {
     "name": "stdout",
     "output_type": "stream",
     "text": [
      "Found 6168 images belonging to 91 classes.\n"
     ]
    }
   ],
   "source": [
    "#data augumentation on training data\n",
    "xtrain= train_datagen.flow_from_directory(r\"/content/drive/MyDrive/animals/animals/animals\",\n",
    "                                                target_size=(64,64),\n",
    "                                                    batch_size=100,\n",
    "                                                    class_mode='categorical' )"
   ]
  },
  {
   "cell_type": "code",
   "execution_count": 69,
   "metadata": {
    "colab": {
     "base_uri": "https://localhost:8080/"
    },
    "executionInfo": {
     "elapsed": 686,
     "status": "ok",
     "timestamp": 1684085801839,
     "user": {
      "displayName": "GAYATHIRI.T",
      "userId": "05673025622643212043"
     },
     "user_tz": -330
    },
    "id": "BlPivrzQhF3C",
    "outputId": "b11d45a4-cc8e-48ba-c15d-2fa6dac70336"
   },
   "outputs": [
    {
     "name": "stdout",
     "output_type": "stream",
     "text": [
      "Found 690 images belonging to 20 classes.\n"
     ]
    }
   ],
   "source": [
    "#data augumentation on testing data\n",
    "xtest = test_datagen.flow_from_directory(r\"/content/drive/MyDrive/animals/animals/animals/testing\",\n",
    "                                        target_size=(64,64),\n",
    "                                                    batch_size=100,\n",
    "                                                    class_mode='categorical' )"
   ]
  },
  {
   "cell_type": "markdown",
   "metadata": {
    "id": "P0uuc-1434VY"
   },
   "source": [
    "##CNN model building"
   ]
  },
  {
   "cell_type": "code",
   "execution_count": 70,
   "metadata": {
    "executionInfo": {
     "elapsed": 468,
     "status": "ok",
     "timestamp": 1684085805655,
     "user": {
      "displayName": "GAYATHIRI.T",
      "userId": "05673025622643212043"
     },
     "user_tz": -330
    },
    "id": "2PB98Ylj0JNe"
   },
   "outputs": [],
   "source": [
    "from tensorflow.keras.models import Sequential\n",
    "from tensorflow.keras.layers import Convolution2D,MaxPooling2D,Flatten,Dense"
   ]
  },
  {
   "cell_type": "code",
   "execution_count": 71,
   "metadata": {
    "executionInfo": {
     "elapsed": 544,
     "status": "ok",
     "timestamp": 1684085808463,
     "user": {
      "displayName": "GAYATHIRI.T",
      "userId": "05673025622643212043"
     },
     "user_tz": -330
    },
    "id": "ca8I7dvV4aJI"
   },
   "outputs": [],
   "source": [
    "#construct CNN model\n",
    "model = Sequential()\n",
    "\n",
    "model.add(Convolution2D(32,(3,3),activation='relu',input_shape=(64,64,3))) #convolution layer\n",
    "\n",
    "model.add(MaxPooling2D(pool_size=(2,2))) #pooling layer\n",
    "model.add(Flatten()) #flatten layer\n",
    "\n",
    "model.add(Dense(300,activation='relu')) #hidden layer 1\n",
    "model.add(Dense(150,activation='relu')) #hidden layer 2\n",
    "model.add(Dense(4,activation='softmax')) #output layer"
   ]
  },
  {
   "cell_type": "code",
   "execution_count": 72,
   "metadata": {
    "executionInfo": {
     "elapsed": 414,
     "status": "ok",
     "timestamp": 1684085814616,
     "user": {
      "displayName": "GAYATHIRI.T",
      "userId": "05673025622643212043"
     },
     "user_tz": -330
    },
    "id": "U6TooSLv6IwT"
   },
   "outputs": [],
   "source": [
    "#compiling the model\n",
    "model.compile(optimizer='adam',loss='categorical_crossentropy',metrics=['accuracy'])"
   ]
  },
  {
   "cell_type": "code",
   "execution_count": null,
   "metadata": {
    "id": "012nacjrW7te"
   },
   "outputs": [],
   "source": [
    "model.fit_generator(xtrain,steps_per_epoch=len(xtrain),epochs=10,validation_steps=xtest,validation_data=len(xtest))"
   ]
  },
  {
   "cell_type": "code",
   "execution_count": 55,
   "metadata": {
    "colab": {
     "base_uri": "https://localhost:8080/"
    },
    "executionInfo": {
     "elapsed": 625,
     "status": "ok",
     "timestamp": 1684084436867,
     "user": {
      "displayName": "GAYATHIRI.T",
      "userId": "05673025622643212043"
     },
     "user_tz": -330
    },
    "id": "9Ycpj3juPxYP",
    "outputId": "d4b9ab5b-e210-42da-e150-36c155ab5d68"
   },
   "outputs": [
    {
     "name": "stderr",
     "output_type": "stream",
     "text": [
      "WARNING:tensorflow:Compiled the loaded model, but the compiled metrics have yet to be built. `model.compile_metrics` will be empty until you train or evaluate the model.\n"
     ]
    }
   ],
   "source": [
    "#save the model\n",
    "model.save('assignment3.h5')"
   ]
  },
  {
   "cell_type": "markdown",
   "metadata": {
    "id": "s_-b7MHDQd3z"
   },
   "source": [
    "##test the model\n"
   ]
  },
  {
   "cell_type": "code",
   "execution_count": 56,
   "metadata": {
    "executionInfo": {
     "elapsed": 1367,
     "status": "ok",
     "timestamp": 1684084630196,
     "user": {
      "displayName": "GAYATHIRI.T",
      "userId": "05673025622643212043"
     },
     "user_tz": -330
    },
    "id": "_qUNC3_yQauy"
   },
   "outputs": [],
   "source": [
    "from tensorflow.keras.preprocessing import image\n",
    "import numpy as np"
   ]
  },
  {
   "cell_type": "code",
   "execution_count": 94,
   "metadata": {
    "executionInfo": {
     "elapsed": 557,
     "status": "ok",
     "timestamp": 1684088610430,
     "user": {
      "displayName": "GAYATHIRI.T",
      "userId": "05673025622643212043"
     },
     "user_tz": -330
    },
    "id": "MV6g3AQ7REHZ"
   },
   "outputs": [],
   "source": [
    "img=image.load_img('/content/drive/MyDrive/animals/animals/animals/badger/06b48e099f.jpg',target_size=(64,64)) #read image"
   ]
  },
  {
   "cell_type": "code",
   "execution_count": 95,
   "metadata": {
    "executionInfo": {
     "elapsed": 4,
     "status": "ok",
     "timestamp": 1684088612212,
     "user": {
      "displayName": "GAYATHIRI.T",
      "userId": "05673025622643212043"
     },
     "user_tz": -330
    },
    "id": "MyVA1GGIRyiT"
   },
   "outputs": [],
   "source": [
    "#converting the image to array\n",
    "X=image.img_to_array(img)\n",
    "X=np.expand_dims(X,axis=0)"
   ]
  },
  {
   "cell_type": "code",
   "execution_count": 96,
   "metadata": {
    "colab": {
     "base_uri": "https://localhost:8080/",
     "height": 53
    },
    "executionInfo": {
     "elapsed": 11,
     "status": "ok",
     "timestamp": 1684088614404,
     "user": {
      "displayName": "GAYATHIRI.T",
      "userId": "05673025622643212043"
     },
     "user_tz": -330
    },
    "id": "Lm4HocgsShmj",
    "outputId": "ab1c4cb1-d6a7-4f84-9b36-2645c7693d43"
   },
   "outputs": [
    {
     "name": "stdout",
     "output_type": "stream",
     "text": [
      "1/1 [==============================] - 0s 38ms/step\n"
     ]
    },
    {
     "data": {
      "application/vnd.google.colaboratory.intrinsic+json": {
       "type": "string"
      },
      "text/plain": [
       "'badger'"
      ]
     },
     "execution_count": 96,
     "metadata": {},
     "output_type": "execute_result"
    }
   ],
   "source": [
    "pred=np.argmax(model.predict(X)) #predicting the higher probability index \n",
    "op=['antelope','badger','bat','bear','bee','beetle', 'bison', 'boar', 'butterfly', 'cat', 'caterpillar' ,'chimpanzee', 'cockroach', 'cow', 'coyote', 'crab', 'crow','deer', 'dog', 'dolphin', 'donkey',\n",
    "  'dragonfly','duck', 'eagle' ,'elephant' ,'flamingo','fly' ,'fox', 'goat' ,'goldfish' ,'goose', 'gorilla' ,'grasshopper', 'hamster', 'hare' ,'hedgehog', 'hippopotamus', 'hornbill', 'horse' ,\n",
    "    'hummingbird' ,'hyena', 'jellyfish', 'kangaroo', 'koala', 'ladybugs', 'leopard', 'lion', 'lizard', 'lobster', 'mosquito', 'moth', 'mouse', 'octopus', 'okapi', 'orangutan', 'otter', 'owl', 'ox', \n",
    "    'oyster', 'panda', 'parrot' ,'pelecaniformes' ,'penguin', 'pig' ,'pigeon', 'porcupine', 'possum', 'raccoon' ,'rat', 'reindeer', 'rhinoceros','sandpiper' ,'seahorse', 'seal', 'shark', 'sheep' ,\n",
    "    'snake', 'sparrow', 'squid' ,'squirrel', 'starfish', 'swan' ,'tiger', 'turkey', 'turtle', 'whale', 'wolf', 'wombat', 'woodpecker', 'zebra'\n",
    "]\n",
    "op[pred]\n"
   ]
  }
 ],
 "metadata": {
  "colab": {
   "authorship_tag": "ABX9TyPAN1vLFYe0m0hseeD/+Bel",
   "mount_file_id": "1XuJ9M65EfsNCgVie58jmIA1iPyatWlUm",
   "provenance": []
  },
  "kernelspec": {
   "display_name": "Python 3",
   "name": "python3"
  },
  "language_info": {
   "name": "python"
  }
 },
 "nbformat": 4,
 "nbformat_minor": 0
}
